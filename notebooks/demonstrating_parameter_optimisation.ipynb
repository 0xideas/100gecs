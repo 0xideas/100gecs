{
 "cells": [
  {
   "cell_type": "code",
   "execution_count": 2,
   "metadata": {},
   "outputs": [],
   "source": [
    "import pandas as pd\n",
    "import numpy as np\n",
    "\n",
    "from lightgbm import LGBMClassifier\n",
    "from sklearn.preprocessing import OneHotEncoder\n",
    "import sys\n",
    "sys.path.append(\"/home/leon/projects/gaussian_process/\")\n",
    "from sklearn.model_selection import cross_val_score\n",
    "from gecs100.gec import GEC\n",
    "from gecs100.utils.gaussian_process_visualisation import visualise_1D_gaussian_process, visualise_2D_gaussian_process\n",
    "\n",
    "gec = GEC()\n",
    "#gec.load_gp_datas(\"./gp_datas.json\")\n"
   ]
  },
  {
   "cell_type": "code",
   "execution_count": 3,
   "metadata": {},
   "outputs": [
    {
     "name": "stdout",
     "output_type": "stream",
     "text": [
      "(61078, 48)\n"
     ]
    },
    {
     "name": "stderr",
     "output_type": "stream",
     "text": [
      "/tmp/ipykernel_98479/1665828294.py:10: FutureWarning: In a future version of pandas all arguments of concat except for the argument 'objs' will be keyword-only.\n",
      "  data2 = pd.concat([one_hot] + [ yesNoBinary(data[col]) if col in binary else data[col] for col in data.columns ], 1).drop(one_hot_encode, 1)\n",
      "/tmp/ipykernel_98479/1665828294.py:10: FutureWarning: In a future version of pandas all arguments of DataFrame.drop except for the argument 'labels' will be keyword-only.\n",
      "  data2 = pd.concat([one_hot] + [ yesNoBinary(data[col]) if col in binary else data[col] for col in data.columns ], 1).drop(one_hot_encode, 1)\n"
     ]
    }
   ],
   "source": [
    "path = \"/home/leon/learning/gaussian-processes/bank/bank-full.csv\"\n",
    "data = pd.read_csv(path, sep=\";\")\n",
    "one_hot_encode = [\"job\", \"marital\", \"education\", \"contact\", \"poutcome\", \"month\"]\n",
    "binary = [\"default\", \"housing\", \"loan\", \"y\"]\n",
    "\n",
    "enc = OneHotEncoder()\n",
    "def yesNoBinary(column):\n",
    "    return(pd.DataFrame([1 if value == \"yes\" else 0 for value in column], columns = [column.name]))\n",
    "one_hot = pd.DataFrame(enc.fit_transform(data[one_hot_encode]).toarray(), columns=enc.get_feature_names_out(one_hot_encode))\n",
    "data2 = pd.concat([one_hot] + [ yesNoBinary(data[col]) if col in binary else data[col] for col in data.columns ], 1).drop(one_hot_encode, 1)\n",
    "X, y = data2.values[:,:-1], data2.values[:,-1]\n",
    "np.random.seed(101)\n",
    "ind = np.random.uniform(0, 1, X.shape[0]) <1.1\n",
    "X = X[ind,:]\n",
    "y = y[ind]\n",
    "\n",
    "X_pos = X[y==1,:]\n",
    "y_pos = y[y==1]\n",
    "\n",
    "X_reweighted = np.concatenate([X] + [X_pos]*3, axis=0)\n",
    "y_reweighted = np.concatenate([y] + [y_pos]*3)\n",
    "\n",
    "\n",
    "print(X_reweighted.shape)"
   ]
  },
  {
   "cell_type": "code",
   "execution_count": 4,
   "metadata": {},
   "outputs": [
    {
     "name": "stderr",
     "output_type": "stream",
     "text": [
      "  2%|▏         | 2/100 [00:07<05:28,  3.35s/it]"
     ]
    }
   ],
   "source": [
    "gec.fit(X_reweighted, y_reweighted, 100)"
   ]
  },
  {
   "cell_type": "code",
   "execution_count": 5,
   "metadata": {},
   "outputs": [
    {
     "data": {
      "text/plain": [
       "{'search': 0.8694631322714814,\n",
       " 'grid': 0.8357196250934392,\n",
       " 'grid_from_search': 0.8694631322714814}"
      ]
     },
     "execution_count": 5,
     "metadata": {},
     "output_type": "execute_result"
    }
   ],
   "source": [
    "gec.best_scores_gec"
   ]
  },
  {
   "cell_type": "code",
   "execution_count": 14,
   "metadata": {},
   "outputs": [
    {
     "data": {
      "text/plain": [
       "{'search': {'boosting': 'gbdt',\n",
       "  'num_leaves': 111,\n",
       "  'learning_rate': 0.05695478297678612,\n",
       "  'n_estimators': 40,\n",
       "  'max_bin': 10,\n",
       "  'max_depth': -1,\n",
       "  'lambda_l1': 0.06997231495784935,\n",
       "  'lambda_l2': 0.013702670330891934,\n",
       "  'min_data_in_leaf': 46,\n",
       "  'feature_fraction': 0.13,\n",
       "  'bagging_freq': 5,\n",
       "  'bagging_fraction': 0.9500000000000001,\n",
       "  'verbosity': -1},\n",
       " 'grid': {'boosting': 'rf',\n",
       "  'num_leaves': 105,\n",
       "  'learning_rate': 0.0462366730725511,\n",
       "  'n_estimators': 80,\n",
       "  'max_bin': 160,\n",
       "  'max_depth': 250,\n",
       "  'lambda_l1': 0.4818554701340344,\n",
       "  'lambda_l2': 0.12827052111465376,\n",
       "  'min_data_in_leaf': 25,\n",
       "  'feature_fraction': 0.33999999999999986,\n",
       "  'bagging_freq': 1,\n",
       "  'bagging_fraction': 0.55},\n",
       " 'grid_from_search': {'boosting': 'rf',\n",
       "  'num_leaves': 104,\n",
       "  'learning_rate': 0.0462366730725511,\n",
       "  'n_estimators': 80,\n",
       "  'max_bin': 160,\n",
       "  'max_depth': 250,\n",
       "  'lambda_l1': 0.4818554701340344,\n",
       "  'lambda_l2': 0.12276712716800227,\n",
       "  'min_data_in_leaf': 26,\n",
       "  'feature_fraction': 0.34999999999999987,\n",
       "  'bagging_freq': 1,\n",
       "  'bagging_fraction': 0.55}}"
      ]
     },
     "execution_count": 14,
     "metadata": {},
     "output_type": "execute_result"
    }
   ],
   "source": [
    "gec.best_params_gec"
   ]
  },
  {
   "cell_type": "code",
   "execution_count": 5,
   "metadata": {},
   "outputs": [
    {
     "data": {
      "text/plain": [
       "{'gbdt-yes_bagging': {'a': 1.460203109103189, 'b': 1.5486043753009384},\n",
       " 'gbdt-no_bagging': {'a': 1.2850113071866223, 'b': 1.4288622798050694},\n",
       " 'dart-yes_bagging': {'a': 1.4946812436155419, 'b': 1.1846192789333239},\n",
       " 'dart-no_bagging': {'a': 1.3302033379682117, 'b': 1.539116217690748},\n",
       " 'rf-yes_bagging': {'a': 1.657485980288401, 'b': 1.5118268726651305}}"
      ]
     },
     "execution_count": 5,
     "metadata": {},
     "output_type": "execute_result"
    }
   ],
   "source": [
    "gec.rewards"
   ]
  },
  {
   "cell_type": "code",
   "execution_count": null,
   "metadata": {},
   "outputs": [],
   "source": [
    "print({k:(np.mean(v[\"output\"]), np.max(v[\"output\"]), len(v[\"output\"])) for k, v in gec.gp_datas.items()})"
   ]
  },
  {
   "cell_type": "code",
   "execution_count": null,
   "metadata": {},
   "outputs": [],
   "source": [
    "#gec.save_figs(\"./test\")"
   ]
  },
  {
   "cell_type": "code",
   "execution_count": 10,
   "metadata": {},
   "outputs": [
    {
     "name": "stdout",
     "output_type": "stream",
     "text": [
      "{'boosting': 'rf', 'num_leaves': 104, 'learning_rate': 0.0462366730725511, 'n_estimators': 80, 'max_bin': 160, 'max_depth': 250, 'lambda_l1': 0.4818554701340344, 'lambda_l2': 0.12276712716800227, 'min_data_in_leaf': 26, 'feature_fraction': 0.34999999999999987, 'bagging_freq': 1, 'bagging_fraction': 0.55}\n",
      "[LightGBM] [Warning] lambda_l1 is set=0.4818554701340344, reg_alpha=0.0 will be ignored. Current value: lambda_l1=0.4818554701340344\n",
      "[LightGBM] [Warning] bagging_fraction is set=0.55, subsample=1.0 will be ignored. Current value: bagging_fraction=0.55\n",
      "[LightGBM] [Warning] lambda_l2 is set=0.12276712716800227, reg_lambda=0.0 will be ignored. Current value: lambda_l2=0.12276712716800227\n",
      "[LightGBM] [Warning] boosting is set=rf, boosting_type=gbdt will be ignored. Current value: boosting=rf\n",
      "[LightGBM] [Warning] feature_fraction is set=0.34999999999999987, colsample_bytree=1.0 will be ignored. Current value: feature_fraction=0.34999999999999987\n",
      "[LightGBM] [Warning] min_data_in_leaf is set=26, min_child_samples=20 will be ignored. Current value: min_data_in_leaf=26\n",
      "[LightGBM] [Warning] bagging_freq is set=1, subsample_freq=0 will be ignored. Current value: bagging_freq=1\n",
      "[LightGBM] [Warning] lambda_l1 is set=0.4818554701340344, reg_alpha=0.0 will be ignored. Current value: lambda_l1=0.4818554701340344\n",
      "[LightGBM] [Warning] bagging_fraction is set=0.55, subsample=1.0 will be ignored. Current value: bagging_fraction=0.55\n",
      "[LightGBM] [Warning] lambda_l2 is set=0.12276712716800227, reg_lambda=0.0 will be ignored. Current value: lambda_l2=0.12276712716800227\n",
      "[LightGBM] [Warning] boosting is set=rf, boosting_type=gbdt will be ignored. Current value: boosting=rf\n",
      "[LightGBM] [Warning] feature_fraction is set=0.34999999999999987, colsample_bytree=1.0 will be ignored. Current value: feature_fraction=0.34999999999999987\n",
      "[LightGBM] [Warning] min_data_in_leaf is set=26, min_child_samples=20 will be ignored. Current value: min_data_in_leaf=26\n",
      "[LightGBM] [Warning] bagging_freq is set=1, subsample_freq=0 will be ignored. Current value: bagging_freq=1\n",
      "[LightGBM] [Warning] lambda_l1 is set=0.4818554701340344, reg_alpha=0.0 will be ignored. Current value: lambda_l1=0.4818554701340344\n",
      "[LightGBM] [Warning] bagging_fraction is set=0.55, subsample=1.0 will be ignored. Current value: bagging_fraction=0.55\n",
      "[LightGBM] [Warning] lambda_l2 is set=0.12276712716800227, reg_lambda=0.0 will be ignored. Current value: lambda_l2=0.12276712716800227\n",
      "[LightGBM] [Warning] boosting is set=rf, boosting_type=gbdt will be ignored. Current value: boosting=rf\n",
      "[LightGBM] [Warning] feature_fraction is set=0.34999999999999987, colsample_bytree=1.0 will be ignored. Current value: feature_fraction=0.34999999999999987\n",
      "[LightGBM] [Warning] min_data_in_leaf is set=26, min_child_samples=20 will be ignored. Current value: min_data_in_leaf=26\n",
      "[LightGBM] [Warning] bagging_freq is set=1, subsample_freq=0 will be ignored. Current value: bagging_freq=1\n",
      "[LightGBM] [Warning] lambda_l1 is set=0.4818554701340344, reg_alpha=0.0 will be ignored. Current value: lambda_l1=0.4818554701340344\n",
      "[LightGBM] [Warning] bagging_fraction is set=0.55, subsample=1.0 will be ignored. Current value: bagging_fraction=0.55\n",
      "[LightGBM] [Warning] lambda_l2 is set=0.12276712716800227, reg_lambda=0.0 will be ignored. Current value: lambda_l2=0.12276712716800227\n",
      "[LightGBM] [Warning] boosting is set=rf, boosting_type=gbdt will be ignored. Current value: boosting=rf\n",
      "[LightGBM] [Warning] feature_fraction is set=0.34999999999999987, colsample_bytree=1.0 will be ignored. Current value: feature_fraction=0.34999999999999987\n",
      "[LightGBM] [Warning] min_data_in_leaf is set=26, min_child_samples=20 will be ignored. Current value: min_data_in_leaf=26\n",
      "[LightGBM] [Warning] bagging_freq is set=1, subsample_freq=0 will be ignored. Current value: bagging_freq=1\n",
      "[LightGBM] [Warning] lambda_l1 is set=0.4818554701340344, reg_alpha=0.0 will be ignored. Current value: lambda_l1=0.4818554701340344\n",
      "[LightGBM] [Warning] bagging_fraction is set=0.55, subsample=1.0 will be ignored. Current value: bagging_fraction=0.55\n",
      "[LightGBM] [Warning] lambda_l2 is set=0.12276712716800227, reg_lambda=0.0 will be ignored. Current value: lambda_l2=0.12276712716800227\n",
      "[LightGBM] [Warning] boosting is set=rf, boosting_type=gbdt will be ignored. Current value: boosting=rf\n",
      "[LightGBM] [Warning] feature_fraction is set=0.34999999999999987, colsample_bytree=1.0 will be ignored. Current value: feature_fraction=0.34999999999999987\n",
      "[LightGBM] [Warning] min_data_in_leaf is set=26, min_child_samples=20 will be ignored. Current value: min_data_in_leaf=26\n",
      "[LightGBM] [Warning] bagging_freq is set=1, subsample_freq=0 will be ignored. Current value: bagging_freq=1\n"
     ]
    },
    {
     "data": {
      "text/plain": [
       "0.6638518536985107"
      ]
     },
     "execution_count": 10,
     "metadata": {},
     "output_type": "execute_result"
    }
   ],
   "source": [
    "bayesian_params = gec.best_params_gec[\"grid_from_search\"]\n",
    "print(bayesian_params)\n",
    "clf_bayes = LGBMClassifier(**bayesian_params)\n",
    "score_bayes = np.mean(cross_val_score(clf_bayes, X_reweighted, y_reweighted, cv=5))\n",
    "score_bayes"
   ]
  },
  {
   "cell_type": "code",
   "execution_count": 11,
   "metadata": {},
   "outputs": [
    {
     "data": {
      "text/plain": [
       "0.6441064187509264"
      ]
     },
     "execution_count": 11,
     "metadata": {},
     "output_type": "execute_result"
    }
   ],
   "source": [
    "clf_default = LGBMClassifier()\n",
    "score_default = np.mean(cross_val_score(clf_default, X_reweighted, y_reweighted, cv=5))\n",
    "score_default"
   ]
  },
  {
   "cell_type": "code",
   "execution_count": null,
   "metadata": {},
   "outputs": [],
   "source": [
    "knn_bayes = LGBMClassifier(**{'boosting': 'rf', 'num_leaves': 199, 'learning_rate': 0.010023052380778996, 'n_estimators': 10, 'max_bin': 140, 'max_depth': 400, 'lambda_l1': 0.0, 'lambda_l2': 0.0, 'min_data_in_leaf': 49, 'feature_fraction': 1.0, 'bagging_freq': 1, 'bagging_fraction': 0.05})\n",
    "score_bayes = np.mean(cross_val_score(knn_bayes, X_reweighted, y_reweighted, cv=5))\n",
    "score_bayes"
   ]
  },
  {
   "cell_type": "code",
   "execution_count": null,
   "metadata": {},
   "outputs": [],
   "source": [
    "gec.categorical_hyperparameters"
   ]
  },
  {
   "cell_type": "code",
   "execution_count": 12,
   "metadata": {},
   "outputs": [
    {
     "name": "stdout",
     "output_type": "stream",
     "text": [
      "[LightGBM] [Warning] lambda_l1 is set=0.07859473860785454, reg_alpha=0.0 will be ignored. Current value: lambda_l1=0.07859473860785454\n",
      "[LightGBM] [Warning] lambda_l2 is set=0.3588047638210554, reg_lambda=0.0 will be ignored. Current value: lambda_l2=0.3588047638210554\n",
      "[LightGBM] [Warning] boosting is set=rf, boosting_type=gbdt will be ignored. Current value: boosting=rf\n",
      "[LightGBM] [Warning] feature_fraction is set=0.5199999999999998, colsample_bytree=1.0 will be ignored. Current value: feature_fraction=0.5199999999999998\n",
      "[LightGBM] [Warning] min_data_in_leaf is set=40, min_child_samples=20 will be ignored. Current value: min_data_in_leaf=40\n"
     ]
    },
    {
     "name": "stderr",
     "output_type": "stream",
     "text": [
      "[LightGBM] [Fatal] Check failed: config->bagging_freq > 0 && config->bagging_fraction < 1.0f && config->bagging_fraction > 0.0f at /__w/1/s/python-package/compile/src/boosting/rf.hpp, line 35 .\n",
      "\n",
      "[LightGBM] [Fatal] Check failed: config->bagging_freq > 0 && config->bagging_fraction < 1.0f && config->bagging_fraction > 0.0f at /__w/1/s/python-package/compile/src/boosting/rf.hpp, line 35 .\n",
      "\n",
      "[LightGBM] [Fatal] Check failed: config->bagging_freq > 0 && config->bagging_fraction < 1.0f && config->bagging_fraction > 0.0f at /__w/1/s/python-package/compile/src/boosting/rf.hpp, line 35 .\n",
      "\n",
      "[LightGBM] [Fatal] Check failed: config->bagging_freq > 0 && config->bagging_fraction < 1.0f && config->bagging_fraction > 0.0f at /__w/1/s/python-package/compile/src/boosting/rf.hpp, line 35 .\n",
      "\n",
      "[LightGBM] [Fatal] Check failed: config->bagging_freq > 0 && config->bagging_fraction < 1.0f && config->bagging_fraction > 0.0f at /__w/1/s/python-package/compile/src/boosting/rf.hpp, line 35 .\n",
      "\n"
     ]
    },
    {
     "name": "stdout",
     "output_type": "stream",
     "text": [
      "[LightGBM] [Warning] lambda_l1 is set=0.4818554701340344, reg_alpha=0.0 will be ignored. Current value: lambda_l1=0.4818554701340344\n",
      "[LightGBM] [Warning] lambda_l2 is set=0.01964577249277761, reg_lambda=0.0 will be ignored. Current value: lambda_l2=0.01964577249277761\n",
      "[LightGBM] [Warning] boosting is set=gbdt, boosting_type=gbdt will be ignored. Current value: boosting=gbdt\n",
      "[LightGBM] [Warning] feature_fraction is set=0.48999999999999977, colsample_bytree=1.0 will be ignored. Current value: feature_fraction=0.48999999999999977\n",
      "[LightGBM] [Warning] min_data_in_leaf is set=3, min_child_samples=20 will be ignored. Current value: min_data_in_leaf=3\n",
      "[LightGBM] [Warning] lambda_l1 is set=0.4818554701340344, reg_alpha=0.0 will be ignored. Current value: lambda_l1=0.4818554701340344\n",
      "[LightGBM] [Warning] lambda_l2 is set=0.01964577249277761, reg_lambda=0.0 will be ignored. Current value: lambda_l2=0.01964577249277761\n",
      "[LightGBM] [Warning] boosting is set=gbdt, boosting_type=gbdt will be ignored. Current value: boosting=gbdt\n",
      "[LightGBM] [Warning] feature_fraction is set=0.48999999999999977, colsample_bytree=1.0 will be ignored. Current value: feature_fraction=0.48999999999999977\n",
      "[LightGBM] [Warning] min_data_in_leaf is set=3, min_child_samples=20 will be ignored. Current value: min_data_in_leaf=3\n",
      "[LightGBM] [Warning] lambda_l1 is set=0.4818554701340344, reg_alpha=0.0 will be ignored. Current value: lambda_l1=0.4818554701340344\n",
      "[LightGBM] [Warning] lambda_l2 is set=0.01964577249277761, reg_lambda=0.0 will be ignored. Current value: lambda_l2=0.01964577249277761\n",
      "[LightGBM] [Warning] boosting is set=gbdt, boosting_type=gbdt will be ignored. Current value: boosting=gbdt\n",
      "[LightGBM] [Warning] feature_fraction is set=0.48999999999999977, colsample_bytree=1.0 will be ignored. Current value: feature_fraction=0.48999999999999977\n",
      "[LightGBM] [Warning] min_data_in_leaf is set=3, min_child_samples=20 will be ignored. Current value: min_data_in_leaf=3\n",
      "[LightGBM] [Warning] lambda_l1 is set=0.4818554701340344, reg_alpha=0.0 will be ignored. Current value: lambda_l1=0.4818554701340344\n",
      "[LightGBM] [Warning] lambda_l2 is set=0.01964577249277761, reg_lambda=0.0 will be ignored. Current value: lambda_l2=0.01964577249277761\n",
      "[LightGBM] [Warning] boosting is set=gbdt, boosting_type=gbdt will be ignored. Current value: boosting=gbdt\n",
      "[LightGBM] [Warning] feature_fraction is set=0.48999999999999977, colsample_bytree=1.0 will be ignored. Current value: feature_fraction=0.48999999999999977\n",
      "[LightGBM] [Warning] min_data_in_leaf is set=3, min_child_samples=20 will be ignored. Current value: min_data_in_leaf=3\n",
      "[LightGBM] [Warning] lambda_l1 is set=0.11213700028500526, reg_alpha=0.0 will be ignored. Current value: lambda_l1=0.11213700028500526\n",
      "[LightGBM] [Warning] lambda_l2 is set=0.04276515237709701, reg_lambda=0.0 will be ignored. Current value: lambda_l2=0.04276515237709701\n",
      "[LightGBM] [Warning] boosting is set=gbdt, boosting_type=gbdt will be ignored. Current value: boosting=gbdt\n",
      "[LightGBM] [Warning] feature_fraction is set=0.44999999999999984, colsample_bytree=1.0 will be ignored. Current value: feature_fraction=0.44999999999999984\n",
      "[LightGBM] [Warning] min_data_in_leaf is set=15, min_child_samples=20 will be ignored. Current value: min_data_in_leaf=15\n",
      "[LightGBM] [Warning] lambda_l1 is set=0.11213700028500526, reg_alpha=0.0 will be ignored. Current value: lambda_l1=0.11213700028500526\n",
      "[LightGBM] [Warning] lambda_l2 is set=0.04276515237709701, reg_lambda=0.0 will be ignored. Current value: lambda_l2=0.04276515237709701\n",
      "[LightGBM] [Warning] boosting is set=gbdt, boosting_type=gbdt will be ignored. Current value: boosting=gbdt\n",
      "[LightGBM] [Warning] feature_fraction is set=0.44999999999999984, colsample_bytree=1.0 will be ignored. Current value: feature_fraction=0.44999999999999984\n",
      "[LightGBM] [Warning] min_data_in_leaf is set=15, min_child_samples=20 will be ignored. Current value: min_data_in_leaf=15\n",
      "[LightGBM] [Warning] lambda_l1 is set=0.11213700028500526, reg_alpha=0.0 will be ignored. Current value: lambda_l1=0.11213700028500526\n",
      "[LightGBM] [Warning] lambda_l2 is set=0.04276515237709701, reg_lambda=0.0 will be ignored. Current value: lambda_l2=0.04276515237709701\n",
      "[LightGBM] [Warning] boosting is set=gbdt, boosting_type=gbdt will be ignored. Current value: boosting=gbdt\n",
      "[LightGBM] [Warning] feature_fraction is set=0.44999999999999984, colsample_bytree=1.0 will be ignored. Current value: feature_fraction=0.44999999999999984\n",
      "[LightGBM] [Warning] min_data_in_leaf is set=15, min_child_samples=20 will be ignored. Current value: min_data_in_leaf=15\n",
      "[LightGBM] [Warning] lambda_l1 is set=0.11213700028500526, reg_alpha=0.0 will be ignored. Current value: lambda_l1=0.11213700028500526\n",
      "[LightGBM] [Warning] lambda_l2 is set=0.04276515237709701, reg_lambda=0.0 will be ignored. Current value: lambda_l2=0.04276515237709701\n",
      "[LightGBM] [Warning] boosting is set=gbdt, boosting_type=gbdt will be ignored. Current value: boosting=gbdt\n",
      "[LightGBM] [Warning] feature_fraction is set=0.44999999999999984, colsample_bytree=1.0 will be ignored. Current value: feature_fraction=0.44999999999999984\n",
      "[LightGBM] [Warning] min_data_in_leaf is set=15, min_child_samples=20 will be ignored. Current value: min_data_in_leaf=15\n",
      "[LightGBM] [Warning] lambda_l1 is set=0.11213700028500526, reg_alpha=0.0 will be ignored. Current value: lambda_l1=0.11213700028500526\n",
      "[LightGBM] [Warning] lambda_l2 is set=0.04276515237709701, reg_lambda=0.0 will be ignored. Current value: lambda_l2=0.04276515237709701\n",
      "[LightGBM] [Warning] boosting is set=gbdt, boosting_type=gbdt will be ignored. Current value: boosting=gbdt\n",
      "[LightGBM] [Warning] feature_fraction is set=0.44999999999999984, colsample_bytree=1.0 will be ignored. Current value: feature_fraction=0.44999999999999984\n",
      "[LightGBM] [Warning] min_data_in_leaf is set=15, min_child_samples=20 will be ignored. Current value: min_data_in_leaf=15\n",
      "[LightGBM] [Warning] lambda_l1 is set=0.6727558123020715, reg_alpha=0.0 will be ignored. Current value: lambda_l1=0.6727558123020715\n",
      "[LightGBM] [Warning] lambda_l2 is set=0.13390341554478288, reg_lambda=0.0 will be ignored. Current value: lambda_l2=0.13390341554478288\n",
      "[LightGBM] [Warning] boosting is set=gbdt, boosting_type=gbdt will be ignored. Current value: boosting=gbdt\n",
      "[LightGBM] [Warning] feature_fraction is set=0.19999999999999996, colsample_bytree=1.0 will be ignored. Current value: feature_fraction=0.19999999999999996\n",
      "[LightGBM] [Warning] min_data_in_leaf is set=21, min_child_samples=20 will be ignored. Current value: min_data_in_leaf=21\n",
      "[LightGBM] [Warning] lambda_l1 is set=0.6727558123020715, reg_alpha=0.0 will be ignored. Current value: lambda_l1=0.6727558123020715\n",
      "[LightGBM] [Warning] lambda_l2 is set=0.13390341554478288, reg_lambda=0.0 will be ignored. Current value: lambda_l2=0.13390341554478288\n",
      "[LightGBM] [Warning] boosting is set=gbdt, boosting_type=gbdt will be ignored. Current value: boosting=gbdt\n",
      "[LightGBM] [Warning] feature_fraction is set=0.19999999999999996, colsample_bytree=1.0 will be ignored. Current value: feature_fraction=0.19999999999999996\n",
      "[LightGBM] [Warning] min_data_in_leaf is set=21, min_child_samples=20 will be ignored. Current value: min_data_in_leaf=21\n",
      "[LightGBM] [Warning] lambda_l1 is set=0.6727558123020715, reg_alpha=0.0 will be ignored. Current value: lambda_l1=0.6727558123020715\n",
      "[LightGBM] [Warning] lambda_l2 is set=0.13390341554478288, reg_lambda=0.0 will be ignored. Current value: lambda_l2=0.13390341554478288\n",
      "[LightGBM] [Warning] boosting is set=gbdt, boosting_type=gbdt will be ignored. Current value: boosting=gbdt\n",
      "[LightGBM] [Warning] feature_fraction is set=0.19999999999999996, colsample_bytree=1.0 will be ignored. Current value: feature_fraction=0.19999999999999996\n",
      "[LightGBM] [Warning] min_data_in_leaf is set=21, min_child_samples=20 will be ignored. Current value: min_data_in_leaf=21\n",
      "[LightGBM] [Warning] lambda_l1 is set=0.6727558123020715, reg_alpha=0.0 will be ignored. Current value: lambda_l1=0.6727558123020715\n",
      "[LightGBM] [Warning] lambda_l2 is set=0.13390341554478288, reg_lambda=0.0 will be ignored. Current value: lambda_l2=0.13390341554478288\n",
      "[LightGBM] [Warning] boosting is set=gbdt, boosting_type=gbdt will be ignored. Current value: boosting=gbdt\n",
      "[LightGBM] [Warning] feature_fraction is set=0.19999999999999996, colsample_bytree=1.0 will be ignored. Current value: feature_fraction=0.19999999999999996\n",
      "[LightGBM] [Warning] min_data_in_leaf is set=21, min_child_samples=20 will be ignored. Current value: min_data_in_leaf=21\n",
      "[LightGBM] [Warning] lambda_l1 is set=0.6727558123020715, reg_alpha=0.0 will be ignored. Current value: lambda_l1=0.6727558123020715\n",
      "[LightGBM] [Warning] lambda_l2 is set=0.13390341554478288, reg_lambda=0.0 will be ignored. Current value: lambda_l2=0.13390341554478288\n",
      "[LightGBM] [Warning] boosting is set=gbdt, boosting_type=gbdt will be ignored. Current value: boosting=gbdt\n",
      "[LightGBM] [Warning] feature_fraction is set=0.19999999999999996, colsample_bytree=1.0 will be ignored. Current value: feature_fraction=0.19999999999999996\n",
      "[LightGBM] [Warning] min_data_in_leaf is set=21, min_child_samples=20 will be ignored. Current value: min_data_in_leaf=21\n",
      "[LightGBM] [Warning] lambda_l1 is set=0.39276427868095354, reg_alpha=0.0 will be ignored. Current value: lambda_l1=0.39276427868095354\n",
      "[LightGBM] [Warning] lambda_l2 is set=0.4682231431110762, reg_lambda=0.0 will be ignored. Current value: lambda_l2=0.4682231431110762\n",
      "[LightGBM] [Warning] boosting is set=gbdt, boosting_type=gbdt will be ignored. Current value: boosting=gbdt\n",
      "[LightGBM] [Warning] feature_fraction is set=0.7899999999999996, colsample_bytree=1.0 will be ignored. Current value: feature_fraction=0.7899999999999996\n",
      "[LightGBM] [Warning] min_data_in_leaf is set=40, min_child_samples=20 will be ignored. Current value: min_data_in_leaf=40\n",
      "[LightGBM] [Warning] lambda_l1 is set=0.39276427868095354, reg_alpha=0.0 will be ignored. Current value: lambda_l1=0.39276427868095354\n",
      "[LightGBM] [Warning] lambda_l2 is set=0.4682231431110762, reg_lambda=0.0 will be ignored. Current value: lambda_l2=0.4682231431110762\n",
      "[LightGBM] [Warning] boosting is set=gbdt, boosting_type=gbdt will be ignored. Current value: boosting=gbdt\n",
      "[LightGBM] [Warning] feature_fraction is set=0.7899999999999996, colsample_bytree=1.0 will be ignored. Current value: feature_fraction=0.7899999999999996\n",
      "[LightGBM] [Warning] min_data_in_leaf is set=40, min_child_samples=20 will be ignored. Current value: min_data_in_leaf=40\n",
      "[LightGBM] [Warning] lambda_l1 is set=0.39276427868095354, reg_alpha=0.0 will be ignored. Current value: lambda_l1=0.39276427868095354\n",
      "[LightGBM] [Warning] lambda_l2 is set=0.4682231431110762, reg_lambda=0.0 will be ignored. Current value: lambda_l2=0.4682231431110762\n",
      "[LightGBM] [Warning] boosting is set=gbdt, boosting_type=gbdt will be ignored. Current value: boosting=gbdt\n",
      "[LightGBM] [Warning] feature_fraction is set=0.7899999999999996, colsample_bytree=1.0 will be ignored. Current value: feature_fraction=0.7899999999999996\n",
      "[LightGBM] [Warning] min_data_in_leaf is set=40, min_child_samples=20 will be ignored. Current value: min_data_in_leaf=40\n",
      "[LightGBM] [Warning] lambda_l1 is set=0.39276427868095354, reg_alpha=0.0 will be ignored. Current value: lambda_l1=0.39276427868095354\n",
      "[LightGBM] [Warning] lambda_l2 is set=0.4682231431110762, reg_lambda=0.0 will be ignored. Current value: lambda_l2=0.4682231431110762\n",
      "[LightGBM] [Warning] boosting is set=gbdt, boosting_type=gbdt will be ignored. Current value: boosting=gbdt\n",
      "[LightGBM] [Warning] feature_fraction is set=0.7899999999999996, colsample_bytree=1.0 will be ignored. Current value: feature_fraction=0.7899999999999996\n",
      "[LightGBM] [Warning] min_data_in_leaf is set=40, min_child_samples=20 will be ignored. Current value: min_data_in_leaf=40\n",
      "[LightGBM] [Warning] lambda_l1 is set=0.39276427868095354, reg_alpha=0.0 will be ignored. Current value: lambda_l1=0.39276427868095354\n",
      "[LightGBM] [Warning] lambda_l2 is set=0.4682231431110762, reg_lambda=0.0 will be ignored. Current value: lambda_l2=0.4682231431110762\n",
      "[LightGBM] [Warning] boosting is set=gbdt, boosting_type=gbdt will be ignored. Current value: boosting=gbdt\n",
      "[LightGBM] [Warning] feature_fraction is set=0.7899999999999996, colsample_bytree=1.0 will be ignored. Current value: feature_fraction=0.7899999999999996\n",
      "[LightGBM] [Warning] min_data_in_leaf is set=40, min_child_samples=20 will be ignored. Current value: min_data_in_leaf=40\n"
     ]
    },
    {
     "name": "stderr",
     "output_type": "stream",
     "text": [
      "/home/leon/miniconda3/envs/dev/lib/python3.10/site-packages/sklearn/model_selection/_validation.py:378: FitFailedWarning: \n",
      "5 fits failed out of a total of 25.\n",
      "The score on these train-test partitions for these parameters will be set to nan.\n",
      "If these failures are not expected, you can try to debug them by setting error_score='raise'.\n",
      "\n",
      "Below are more details about the failures:\n",
      "--------------------------------------------------------------------------------\n",
      "5 fits failed with the following error:\n",
      "Traceback (most recent call last):\n",
      "  File \"/home/leon/miniconda3/envs/dev/lib/python3.10/site-packages/sklearn/model_selection/_validation.py\", line 686, in _fit_and_score\n",
      "    estimator.fit(X_train, y_train, **fit_params)\n",
      "  File \"/home/leon/miniconda3/envs/dev/lib/python3.10/site-packages/lightgbm/sklearn.py\", line 967, in fit\n",
      "    super().fit(X, _y, sample_weight=sample_weight, init_score=init_score, eval_set=valid_sets,\n",
      "  File \"/home/leon/miniconda3/envs/dev/lib/python3.10/site-packages/lightgbm/sklearn.py\", line 748, in fit\n",
      "    self._Booster = train(\n",
      "  File \"/home/leon/miniconda3/envs/dev/lib/python3.10/site-packages/lightgbm/engine.py\", line 271, in train\n",
      "    booster = Booster(params=params, train_set=train_set)\n",
      "  File \"/home/leon/miniconda3/envs/dev/lib/python3.10/site-packages/lightgbm/basic.py\", line 2610, in __init__\n",
      "    _safe_call(_LIB.LGBM_BoosterCreate(\n",
      "  File \"/home/leon/miniconda3/envs/dev/lib/python3.10/site-packages/lightgbm/basic.py\", line 125, in _safe_call\n",
      "    raise LightGBMError(_LIB.LGBM_GetLastError().decode('utf-8'))\n",
      "lightgbm.basic.LightGBMError: Check failed: config->bagging_freq > 0 && config->bagging_fraction < 1.0f && config->bagging_fraction > 0.0f at /__w/1/s/python-package/compile/src/boosting/rf.hpp, line 35 .\n",
      "\n",
      "\n",
      "  warnings.warn(some_fits_failed_message, FitFailedWarning)\n",
      "/home/leon/miniconda3/envs/dev/lib/python3.10/site-packages/sklearn/model_selection/_search.py:952: UserWarning: One or more of the test scores are non-finite: [       nan 0.64980399 0.71482005 0.69209814 0.66591445]\n",
      "  warnings.warn(\n"
     ]
    },
    {
     "name": "stdout",
     "output_type": "stream",
     "text": [
      "[LightGBM] [Warning] lambda_l1 is set=0.11213700028500526, reg_alpha=0.0 will be ignored. Current value: lambda_l1=0.11213700028500526\n",
      "[LightGBM] [Warning] lambda_l2 is set=0.04276515237709701, reg_lambda=0.0 will be ignored. Current value: lambda_l2=0.04276515237709701\n",
      "[LightGBM] [Warning] boosting is set=gbdt, boosting_type=gbdt will be ignored. Current value: boosting=gbdt\n",
      "[LightGBM] [Warning] feature_fraction is set=0.44999999999999984, colsample_bytree=1.0 will be ignored. Current value: feature_fraction=0.44999999999999984\n",
      "[LightGBM] [Warning] min_data_in_leaf is set=15, min_child_samples=20 will be ignored. Current value: min_data_in_leaf=15\n"
     ]
    },
    {
     "data": {
      "text/html": [
       "<style>#sk-container-id-2 {color: black;background-color: white;}#sk-container-id-2 pre{padding: 0;}#sk-container-id-2 div.sk-toggleable {background-color: white;}#sk-container-id-2 label.sk-toggleable__label {cursor: pointer;display: block;width: 100%;margin-bottom: 0;padding: 0.3em;box-sizing: border-box;text-align: center;}#sk-container-id-2 label.sk-toggleable__label-arrow:before {content: \"▸\";float: left;margin-right: 0.25em;color: #696969;}#sk-container-id-2 label.sk-toggleable__label-arrow:hover:before {color: black;}#sk-container-id-2 div.sk-estimator:hover label.sk-toggleable__label-arrow:before {color: black;}#sk-container-id-2 div.sk-toggleable__content {max-height: 0;max-width: 0;overflow: hidden;text-align: left;background-color: #f0f8ff;}#sk-container-id-2 div.sk-toggleable__content pre {margin: 0.2em;color: black;border-radius: 0.25em;background-color: #f0f8ff;}#sk-container-id-2 input.sk-toggleable__control:checked~div.sk-toggleable__content {max-height: 200px;max-width: 100%;overflow: auto;}#sk-container-id-2 input.sk-toggleable__control:checked~label.sk-toggleable__label-arrow:before {content: \"▾\";}#sk-container-id-2 div.sk-estimator input.sk-toggleable__control:checked~label.sk-toggleable__label {background-color: #d4ebff;}#sk-container-id-2 div.sk-label input.sk-toggleable__control:checked~label.sk-toggleable__label {background-color: #d4ebff;}#sk-container-id-2 input.sk-hidden--visually {border: 0;clip: rect(1px 1px 1px 1px);clip: rect(1px, 1px, 1px, 1px);height: 1px;margin: -1px;overflow: hidden;padding: 0;position: absolute;width: 1px;}#sk-container-id-2 div.sk-estimator {font-family: monospace;background-color: #f0f8ff;border: 1px dotted black;border-radius: 0.25em;box-sizing: border-box;margin-bottom: 0.5em;}#sk-container-id-2 div.sk-estimator:hover {background-color: #d4ebff;}#sk-container-id-2 div.sk-parallel-item::after {content: \"\";width: 100%;border-bottom: 1px solid gray;flex-grow: 1;}#sk-container-id-2 div.sk-label:hover label.sk-toggleable__label {background-color: #d4ebff;}#sk-container-id-2 div.sk-serial::before {content: \"\";position: absolute;border-left: 1px solid gray;box-sizing: border-box;top: 0;bottom: 0;left: 50%;z-index: 0;}#sk-container-id-2 div.sk-serial {display: flex;flex-direction: column;align-items: center;background-color: white;padding-right: 0.2em;padding-left: 0.2em;position: relative;}#sk-container-id-2 div.sk-item {position: relative;z-index: 1;}#sk-container-id-2 div.sk-parallel {display: flex;align-items: stretch;justify-content: center;background-color: white;position: relative;}#sk-container-id-2 div.sk-item::before, #sk-container-id-2 div.sk-parallel-item::before {content: \"\";position: absolute;border-left: 1px solid gray;box-sizing: border-box;top: 0;bottom: 0;left: 50%;z-index: -1;}#sk-container-id-2 div.sk-parallel-item {display: flex;flex-direction: column;z-index: 1;position: relative;background-color: white;}#sk-container-id-2 div.sk-parallel-item:first-child::after {align-self: flex-end;width: 50%;}#sk-container-id-2 div.sk-parallel-item:last-child::after {align-self: flex-start;width: 50%;}#sk-container-id-2 div.sk-parallel-item:only-child::after {width: 0;}#sk-container-id-2 div.sk-dashed-wrapped {border: 1px dashed gray;margin: 0 0.4em 0.5em 0.4em;box-sizing: border-box;padding-bottom: 0.4em;background-color: white;}#sk-container-id-2 div.sk-label label {font-family: monospace;font-weight: bold;display: inline-block;line-height: 1.2em;}#sk-container-id-2 div.sk-label-container {text-align: center;}#sk-container-id-2 div.sk-container {/* jupyter's `normalize.less` sets `[hidden] { display: none; }` but bootstrap.min.css set `[hidden] { display: none !important; }` so we also need the `!important` here to be able to override the default hidden behavior on the sphinx rendered scikit-learn.org. See: https://github.com/scikit-learn/scikit-learn/issues/21755 */display: inline-block !important;position: relative;}#sk-container-id-2 div.sk-text-repr-fallback {display: none;}</style><div id=\"sk-container-id-2\" class=\"sk-top-container\"><div class=\"sk-text-repr-fallback\"><pre>RandomizedSearchCV(estimator=LGBMClassifier(), n_iter=5,\n",
       "                   param_distributions={&#x27;boosting&#x27;: [&#x27;gbdt&#x27;, &#x27;dart&#x27;, &#x27;rf&#x27;],\n",
       "                                        &#x27;feature_fraction&#x27;: array([0.1 , 0.11, 0.12, 0.13, 0.14, 0.15, 0.16, 0.17, 0.18, 0.19, 0.2 ,\n",
       "       0.21, 0.22, 0.23, 0.24, 0.25, 0.26, 0.27, 0.28, 0.29, 0.3 , 0.31,\n",
       "       0.32, 0.33, 0.34, 0.35, 0.36, 0.37, 0.38, 0.39, 0.4 , 0.41, 0.42,\n",
       "       0.43, 0.44, 0.45, 0.46, 0.47, 0.48, 0.49, 0.5 , 0.51, 0.52, 0.53,\n",
       "       0...\n",
       "       101, 102, 103, 104, 105, 106, 107, 108, 109, 110, 111, 112, 113,\n",
       "       114, 115, 116, 117, 118, 119, 120, 121, 122, 123, 124, 125, 126,\n",
       "       127, 128, 129, 130, 131, 132, 133, 134, 135, 136, 137, 138, 139,\n",
       "       140, 141, 142, 143, 144, 145, 146, 147, 148, 149, 150, 151, 152,\n",
       "       153, 154, 155, 156, 157, 158, 159, 160, 161, 162, 163, 164, 165,\n",
       "       166, 167, 168, 169, 170, 171, 172, 173, 174, 175, 176, 177, 178,\n",
       "       179, 180, 181, 182, 183, 184, 185, 186, 187, 188, 189, 190, 191,\n",
       "       192, 193, 194, 195, 196, 197, 198, 199])})</pre><b>In a Jupyter environment, please rerun this cell to show the HTML representation or trust the notebook. <br />On GitHub, the HTML representation is unable to render, please try loading this page with nbviewer.org.</b></div><div class=\"sk-container\" hidden><div class=\"sk-item sk-dashed-wrapped\"><div class=\"sk-label-container\"><div class=\"sk-label sk-toggleable\"><input class=\"sk-toggleable__control sk-hidden--visually\" id=\"sk-estimator-id-2\" type=\"checkbox\" ><label for=\"sk-estimator-id-2\" class=\"sk-toggleable__label sk-toggleable__label-arrow\">RandomizedSearchCV</label><div class=\"sk-toggleable__content\"><pre>RandomizedSearchCV(estimator=LGBMClassifier(), n_iter=5,\n",
       "                   param_distributions={&#x27;boosting&#x27;: [&#x27;gbdt&#x27;, &#x27;dart&#x27;, &#x27;rf&#x27;],\n",
       "                                        &#x27;feature_fraction&#x27;: array([0.1 , 0.11, 0.12, 0.13, 0.14, 0.15, 0.16, 0.17, 0.18, 0.19, 0.2 ,\n",
       "       0.21, 0.22, 0.23, 0.24, 0.25, 0.26, 0.27, 0.28, 0.29, 0.3 , 0.31,\n",
       "       0.32, 0.33, 0.34, 0.35, 0.36, 0.37, 0.38, 0.39, 0.4 , 0.41, 0.42,\n",
       "       0.43, 0.44, 0.45, 0.46, 0.47, 0.48, 0.49, 0.5 , 0.51, 0.52, 0.53,\n",
       "       0...\n",
       "       101, 102, 103, 104, 105, 106, 107, 108, 109, 110, 111, 112, 113,\n",
       "       114, 115, 116, 117, 118, 119, 120, 121, 122, 123, 124, 125, 126,\n",
       "       127, 128, 129, 130, 131, 132, 133, 134, 135, 136, 137, 138, 139,\n",
       "       140, 141, 142, 143, 144, 145, 146, 147, 148, 149, 150, 151, 152,\n",
       "       153, 154, 155, 156, 157, 158, 159, 160, 161, 162, 163, 164, 165,\n",
       "       166, 167, 168, 169, 170, 171, 172, 173, 174, 175, 176, 177, 178,\n",
       "       179, 180, 181, 182, 183, 184, 185, 186, 187, 188, 189, 190, 191,\n",
       "       192, 193, 194, 195, 196, 197, 198, 199])})</pre></div></div></div><div class=\"sk-parallel\"><div class=\"sk-parallel-item\"><div class=\"sk-item\"><div class=\"sk-label-container\"><div class=\"sk-label sk-toggleable\"><input class=\"sk-toggleable__control sk-hidden--visually\" id=\"sk-estimator-id-3\" type=\"checkbox\" ><label for=\"sk-estimator-id-3\" class=\"sk-toggleable__label sk-toggleable__label-arrow\">estimator: LGBMClassifier</label><div class=\"sk-toggleable__content\"><pre>LGBMClassifier()</pre></div></div></div><div class=\"sk-serial\"><div class=\"sk-item\"><div class=\"sk-estimator sk-toggleable\"><input class=\"sk-toggleable__control sk-hidden--visually\" id=\"sk-estimator-id-4\" type=\"checkbox\" ><label for=\"sk-estimator-id-4\" class=\"sk-toggleable__label sk-toggleable__label-arrow\">LGBMClassifier</label><div class=\"sk-toggleable__content\"><pre>LGBMClassifier()</pre></div></div></div></div></div></div></div></div></div></div>"
      ],
      "text/plain": [
       "RandomizedSearchCV(estimator=LGBMClassifier(), n_iter=5,\n",
       "                   param_distributions={'boosting': ['gbdt', 'dart', 'rf'],\n",
       "                                        'feature_fraction': array([0.1 , 0.11, 0.12, 0.13, 0.14, 0.15, 0.16, 0.17, 0.18, 0.19, 0.2 ,\n",
       "       0.21, 0.22, 0.23, 0.24, 0.25, 0.26, 0.27, 0.28, 0.29, 0.3 , 0.31,\n",
       "       0.32, 0.33, 0.34, 0.35, 0.36, 0.37, 0.38, 0.39, 0.4 , 0.41, 0.42,\n",
       "       0.43, 0.44, 0.45, 0.46, 0.47, 0.48, 0.49, 0.5 , 0.51, 0.52, 0.53,\n",
       "       0...\n",
       "       101, 102, 103, 104, 105, 106, 107, 108, 109, 110, 111, 112, 113,\n",
       "       114, 115, 116, 117, 118, 119, 120, 121, 122, 123, 124, 125, 126,\n",
       "       127, 128, 129, 130, 131, 132, 133, 134, 135, 136, 137, 138, 139,\n",
       "       140, 141, 142, 143, 144, 145, 146, 147, 148, 149, 150, 151, 152,\n",
       "       153, 154, 155, 156, 157, 158, 159, 160, 161, 162, 163, 164, 165,\n",
       "       166, 167, 168, 169, 170, 171, 172, 173, 174, 175, 176, 177, 178,\n",
       "       179, 180, 181, 182, 183, 184, 185, 186, 187, 188, 189, 190, 191,\n",
       "       192, 193, 194, 195, 196, 197, 198, 199])})"
      ]
     },
     "execution_count": 12,
     "metadata": {},
     "output_type": "execute_result"
    }
   ],
   "source": [
    "from sklearn.model_selection import RandomizedSearchCV\n",
    "classifier = LGBMClassifier()\n",
    "hyperparams = dict(gec.categorical_hyperparameters[:1] + gec.real_hyperparameters)\n",
    "gs = RandomizedSearchCV(classifier, hyperparams, n_iter=5)\n",
    "gs.fit(X_reweighted, y_reweighted)"
   ]
  },
  {
   "cell_type": "code",
   "execution_count": 13,
   "metadata": {},
   "outputs": [
    {
     "name": "stdout",
     "output_type": "stream",
     "text": [
      "[LightGBM] [Warning] feature_fraction is set=0.13, colsample_bytree=1.0 will be ignored. Current value: feature_fraction=0.13\n",
      "[LightGBM] [Warning] boosting is set=gbdt, boosting_type=gbdt will be ignored. Current value: boosting=gbdt\n",
      "[LightGBM] [Warning] bagging_freq is set=5, subsample_freq=0 will be ignored. Current value: bagging_freq=5\n",
      "[LightGBM] [Warning] min_data_in_leaf is set=46, min_child_samples=20 will be ignored. Current value: min_data_in_leaf=46\n",
      "[LightGBM] [Warning] lambda_l2 is set=0.013702670330891934, reg_lambda=0.0 will be ignored. Current value: lambda_l2=0.013702670330891934\n",
      "[LightGBM] [Warning] bagging_fraction is set=0.9500000000000001, subsample=1.0 will be ignored. Current value: bagging_fraction=0.9500000000000001\n",
      "[LightGBM] [Warning] lambda_l1 is set=0.06997231495784935, reg_alpha=0.0 will be ignored. Current value: lambda_l1=0.06997231495784935\n",
      "[LightGBM] [Warning] feature_fraction is set=0.13, colsample_bytree=1.0 will be ignored. Current value: feature_fraction=0.13\n",
      "[LightGBM] [Warning] boosting is set=gbdt, boosting_type=gbdt will be ignored. Current value: boosting=gbdt\n",
      "[LightGBM] [Warning] bagging_freq is set=5, subsample_freq=0 will be ignored. Current value: bagging_freq=5\n",
      "[LightGBM] [Warning] min_data_in_leaf is set=46, min_child_samples=20 will be ignored. Current value: min_data_in_leaf=46\n",
      "[LightGBM] [Warning] lambda_l2 is set=0.013702670330891934, reg_lambda=0.0 will be ignored. Current value: lambda_l2=0.013702670330891934\n",
      "[LightGBM] [Warning] bagging_fraction is set=0.9500000000000001, subsample=1.0 will be ignored. Current value: bagging_fraction=0.9500000000000001\n",
      "[LightGBM] [Warning] lambda_l1 is set=0.06997231495784935, reg_alpha=0.0 will be ignored. Current value: lambda_l1=0.06997231495784935\n",
      "[LightGBM] [Warning] feature_fraction is set=0.13, colsample_bytree=1.0 will be ignored. Current value: feature_fraction=0.13\n",
      "[LightGBM] [Warning] boosting is set=gbdt, boosting_type=gbdt will be ignored. Current value: boosting=gbdt\n",
      "[LightGBM] [Warning] bagging_freq is set=5, subsample_freq=0 will be ignored. Current value: bagging_freq=5\n",
      "[LightGBM] [Warning] min_data_in_leaf is set=46, min_child_samples=20 will be ignored. Current value: min_data_in_leaf=46\n",
      "[LightGBM] [Warning] lambda_l2 is set=0.013702670330891934, reg_lambda=0.0 will be ignored. Current value: lambda_l2=0.013702670330891934\n",
      "[LightGBM] [Warning] bagging_fraction is set=0.9500000000000001, subsample=1.0 will be ignored. Current value: bagging_fraction=0.9500000000000001\n",
      "[LightGBM] [Warning] lambda_l1 is set=0.06997231495784935, reg_alpha=0.0 will be ignored. Current value: lambda_l1=0.06997231495784935\n",
      "[LightGBM] [Warning] feature_fraction is set=0.13, colsample_bytree=1.0 will be ignored. Current value: feature_fraction=0.13\n",
      "[LightGBM] [Warning] boosting is set=gbdt, boosting_type=gbdt will be ignored. Current value: boosting=gbdt\n",
      "[LightGBM] [Warning] bagging_freq is set=5, subsample_freq=0 will be ignored. Current value: bagging_freq=5\n",
      "[LightGBM] [Warning] min_data_in_leaf is set=46, min_child_samples=20 will be ignored. Current value: min_data_in_leaf=46\n",
      "[LightGBM] [Warning] lambda_l2 is set=0.013702670330891934, reg_lambda=0.0 will be ignored. Current value: lambda_l2=0.013702670330891934\n",
      "[LightGBM] [Warning] bagging_fraction is set=0.9500000000000001, subsample=1.0 will be ignored. Current value: bagging_fraction=0.9500000000000001\n",
      "[LightGBM] [Warning] lambda_l1 is set=0.06997231495784935, reg_alpha=0.0 will be ignored. Current value: lambda_l1=0.06997231495784935\n",
      "[LightGBM] [Warning] lambda_l1 is set=0.11213700028500526, reg_alpha=0.0 will be ignored. Current value: lambda_l1=0.11213700028500526\n",
      "[LightGBM] [Warning] lambda_l2 is set=0.04276515237709701, reg_lambda=0.0 will be ignored. Current value: lambda_l2=0.04276515237709701\n",
      "[LightGBM] [Warning] boosting is set=gbdt, boosting_type=gbdt will be ignored. Current value: boosting=gbdt\n",
      "[LightGBM] [Warning] feature_fraction is set=0.44999999999999984, colsample_bytree=1.0 will be ignored. Current value: feature_fraction=0.44999999999999984\n",
      "[LightGBM] [Warning] min_data_in_leaf is set=15, min_child_samples=20 will be ignored. Current value: min_data_in_leaf=15\n",
      "[LightGBM] [Warning] lambda_l1 is set=0.11213700028500526, reg_alpha=0.0 will be ignored. Current value: lambda_l1=0.11213700028500526\n",
      "[LightGBM] [Warning] lambda_l2 is set=0.04276515237709701, reg_lambda=0.0 will be ignored. Current value: lambda_l2=0.04276515237709701\n",
      "[LightGBM] [Warning] boosting is set=gbdt, boosting_type=gbdt will be ignored. Current value: boosting=gbdt\n",
      "[LightGBM] [Warning] feature_fraction is set=0.44999999999999984, colsample_bytree=1.0 will be ignored. Current value: feature_fraction=0.44999999999999984\n",
      "[LightGBM] [Warning] min_data_in_leaf is set=15, min_child_samples=20 will be ignored. Current value: min_data_in_leaf=15\n",
      "[LightGBM] [Warning] lambda_l1 is set=0.11213700028500526, reg_alpha=0.0 will be ignored. Current value: lambda_l1=0.11213700028500526\n",
      "[LightGBM] [Warning] lambda_l2 is set=0.04276515237709701, reg_lambda=0.0 will be ignored. Current value: lambda_l2=0.04276515237709701\n",
      "[LightGBM] [Warning] boosting is set=gbdt, boosting_type=gbdt will be ignored. Current value: boosting=gbdt\n",
      "[LightGBM] [Warning] feature_fraction is set=0.44999999999999984, colsample_bytree=1.0 will be ignored. Current value: feature_fraction=0.44999999999999984\n",
      "[LightGBM] [Warning] min_data_in_leaf is set=15, min_child_samples=20 will be ignored. Current value: min_data_in_leaf=15\n",
      "[LightGBM] [Warning] lambda_l1 is set=0.11213700028500526, reg_alpha=0.0 will be ignored. Current value: lambda_l1=0.11213700028500526\n",
      "[LightGBM] [Warning] lambda_l2 is set=0.04276515237709701, reg_lambda=0.0 will be ignored. Current value: lambda_l2=0.04276515237709701\n",
      "[LightGBM] [Warning] boosting is set=gbdt, boosting_type=gbdt will be ignored. Current value: boosting=gbdt\n",
      "[LightGBM] [Warning] feature_fraction is set=0.44999999999999984, colsample_bytree=1.0 will be ignored. Current value: feature_fraction=0.44999999999999984\n",
      "[LightGBM] [Warning] min_data_in_leaf is set=15, min_child_samples=20 will be ignored. Current value: min_data_in_leaf=15\n",
      "[LightGBM] [Warning] lambda_l1 is set=0.11213700028500526, reg_alpha=0.0 will be ignored. Current value: lambda_l1=0.11213700028500526\n",
      "[LightGBM] [Warning] lambda_l2 is set=0.04276515237709701, reg_lambda=0.0 will be ignored. Current value: lambda_l2=0.04276515237709701\n",
      "[LightGBM] [Warning] boosting is set=gbdt, boosting_type=gbdt will be ignored. Current value: boosting=gbdt\n",
      "[LightGBM] [Warning] feature_fraction is set=0.44999999999999984, colsample_bytree=1.0 will be ignored. Current value: feature_fraction=0.44999999999999984\n",
      "[LightGBM] [Warning] min_data_in_leaf is set=15, min_child_samples=20 will be ignored. Current value: min_data_in_leaf=15\n",
      "bayesian: 0.7416069997783115, random search: 0.7148200544115056, default: 0.6441064187509264\n"
     ]
    }
   ],
   "source": [
    "X_eval, y_eval = X_reweighted, y_reweighted\n",
    "knn_bayes = LGBMClassifier(**gec.best_params_)\n",
    "score_bayes = np.mean(cross_val_score(knn_bayes, X_eval, y_eval, cv=5))\n",
    "knn_gs = LGBMClassifier(**gs.best_params_)\n",
    "score_gs = np.mean(cross_val_score(knn_gs, X_eval, y_eval, cv=5))\n",
    "knn_default = LGBMClassifier()\n",
    "score_default = np.mean(cross_val_score(knn_default, X_eval, y_eval, cv=5))\n",
    "print(f\"bayesian: {score_bayes}, random search: {score_gs}, default: {score_default}\")\n"
   ]
  },
  {
   "cell_type": "code",
   "execution_count": null,
   "metadata": {},
   "outputs": [],
   "source": [
    "from sklearn.gaussian_process import GaussianProcessRegressor\n",
    "from sklearn.utils.extmath import cartesian\n",
    "from sklearn.gaussian_process.kernels import RBF, ConstantKernel\n",
    "\n",
    "gaussian = GaussianProcessRegressor(kernel=gec.kernel)\n",
    "#gaussian.fit(result['uniform'][0], result['uniform'][0].dot(np.array([1.0, 3.0]))/500)\n",
    "gaussian.fit(gec.gp_datas['gbdt-no_bagging'][\"inputs\"], gec.gp_datas['gbdt-no_bagging'][\"output\"])"
   ]
  },
  {
   "cell_type": "code",
   "execution_count": null,
   "metadata": {},
   "outputs": [],
   "source": [
    "visualise_2D_gaussian_process(gaussian, (np.logspace(0.00, 1, 50) -1)/9, np.arange(10, 200, 1), np.arange(0.5, 1, 0.1))"
   ]
  },
  {
   "cell_type": "code",
   "execution_count": null,
   "metadata": {},
   "outputs": [],
   "source": [
    "print(gec.best_params_)\n",
    "knn_bayes = LGBMClassifier(**gec.best_params_)\n",
    "score_bayes = np.mean(cross_val_score(knn_bayes, X, y, cv=5))\n",
    "score_bayes"
   ]
  },
  {
   "cell_type": "code",
   "execution_count": null,
   "metadata": {},
   "outputs": [],
   "source": [
    "knn_bayes = LGBMClassifier(**{'boosting': 'gbdt', 'lambda_l1': 0.46, 'num_leaves': 12})\n",
    "score_bayes = np.mean(cross_val_score(knn_bayes, X, y, cv=5))\n",
    "score_bayes"
   ]
  },
  {
   "cell_type": "code",
   "execution_count": null,
   "metadata": {},
   "outputs": [],
   "source": []
  }
 ],
 "metadata": {
  "kernelspec": {
   "display_name": "dev",
   "language": "python",
   "name": "python3"
  },
  "language_info": {
   "codemirror_mode": {
    "name": "ipython",
    "version": 3
   },
   "file_extension": ".py",
   "mimetype": "text/x-python",
   "name": "python",
   "nbconvert_exporter": "python",
   "pygments_lexer": "ipython3",
   "version": "3.10.10"
  },
  "vscode": {
   "interpreter": {
    "hash": "dcdce26ee4edc15ac31fd886f6d8881a3f1407a82118bfb4ebe0b8e8acf2ec2a"
   }
  }
 },
 "nbformat": 4,
 "nbformat_minor": 4
}
